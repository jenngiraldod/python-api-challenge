{
 "cells": [
  {
   "cell_type": "code",
   "execution_count": 1,
   "id": "8b4e48ad-add8-4630-a0da-01950c0060cc",
   "metadata": {},
   "outputs": [
    {
     "name": "stdout",
     "output_type": "stream",
     "text": [
      "\u001b[33mWARNING: Package(s) not found: citipy\u001b[0m\u001b[33m\n",
      "\u001b[0m"
     ]
    }
   ],
   "source": [
    "!pip show citipy"
   ]
  },
  {
   "cell_type": "code",
   "execution_count": 3,
   "id": "0431fd1d-d5e3-4cea-8d54-a4e8a8cd1910",
   "metadata": {},
   "outputs": [
    {
     "name": "stdout",
     "output_type": "stream",
     "text": [
      "Collecting citipy\n",
      "  Using cached citipy-0.0.6.tar.gz (675 kB)\n",
      "  Preparing metadata (setup.py) ... \u001b[?25ldone\n",
      "\u001b[?25hCollecting kdtree>=0.12 (from citipy)\n",
      "  Using cached kdtree-0.16-py2.py3-none-any.whl.metadata (1.3 kB)\n",
      "Using cached kdtree-0.16-py2.py3-none-any.whl (7.7 kB)\n",
      "Building wheels for collected packages: citipy\n",
      "  Building wheel for citipy (setup.py) ... \u001b[?25ldone\n",
      "\u001b[?25h  Created wheel for citipy: filename=citipy-0.0.6-py3-none-any.whl size=675966 sha256=d4b42b0948b0d5d1da137ad2b128bcbdf0a8d5e64a74b5c78d49ea12d69c8025\n",
      "  Stored in directory: /Users/jennifergiraldodavila/Library/Caches/pip/wheels/e9/27/5f/7defd70aaec29af33fe5e2110843e14dcfc44cba710a0dd957\n",
      "Successfully built citipy\n",
      "Installing collected packages: kdtree, citipy\n",
      "Successfully installed citipy-0.0.6 kdtree-0.16\n"
     ]
    }
   ],
   "source": [
    "!pip install citipy\n"
   ]
  },
  {
   "cell_type": "code",
   "execution_count": null,
   "id": "56d69b8f-e87b-46de-8cec-fdd96898ae20",
   "metadata": {},
   "outputs": [],
   "source": []
  }
 ],
 "metadata": {
  "kernelspec": {
   "display_name": "Python 3 (ipykernel)",
   "language": "python",
   "name": "python3"
  },
  "language_info": {
   "codemirror_mode": {
    "name": "ipython",
    "version": 3
   },
   "file_extension": ".py",
   "mimetype": "text/x-python",
   "name": "python",
   "nbconvert_exporter": "python",
   "pygments_lexer": "ipython3",
   "version": "3.12.4"
  }
 },
 "nbformat": 4,
 "nbformat_minor": 5
}
